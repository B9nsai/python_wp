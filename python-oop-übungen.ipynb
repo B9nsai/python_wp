{
 "cells": [
  {
   "cell_type": "markdown",
   "metadata": {},
   "source": [
    "# Aufgabe1 - Klasse Datum\n",
    "#### Schreiben Sie eine Klasse Datum für ein Kalenderdatum. Die Klasse soll folgende Bestandteile haben:\n",
    " \n",
    "    Attribute: Tag, Monat und Jahr (jeweils vom Typ int)\n",
    "    set-/get-Methoden für die Attribute\n",
    "    eine __init__-Methode, die alle Attribute mit den übergebenen Parametern initialisiert.\n",
    "\n",
    "#### Weiterhin sollen die  Methoden __str__(self) sowie __eq__(self, other) geeignet überschrieben werden\n",
    "\n",
    "#### Implementierung der Klasse \"Datum\":"
   ]
  },
  {
   "cell_type": "code",
   "execution_count": 46,
   "metadata": {},
   "outputs": [],
   "source": [
    "class Datum:\n",
    "    def __init__(self, tag, monat, jahr):\n",
    "        self.__tag = tag\n",
    "        self.__monat = monat\n",
    "        self.__jahr = jahr\n",
    "        \n",
    "    def __str__(self):\n",
    "        return str(self.__tag) + \".\" + str(self.__monat) + \".\" + str(self.__jahr)\n",
    "\n",
    "    def __eq__(self, other):\n",
    "        return self.__tag == other.__tag \\\n",
    "            and self.__monat == other.__monat \\\n",
    "                and self.__jahr == other.__jahr\n",
    "\n",
    "    def __ne__(self, other):\n",
    "        return self.__tag != other.__tag \\\n",
    "            or self.__monat != other.__monat \\\n",
    "                or self.__jahr != other.__jahr\n",
    "\n",
    "    def get_tag(self):\n",
    "        return self.__tag\n",
    "\n",
    "    def get_monat(self):\n",
    "        return self.__monat\n",
    "\n",
    "    def get_jahr(self):\n",
    "        return self.__jahr\n",
    "\n",
    "    def set_tag(self, tag):\n",
    "        self.__tag = tag\n",
    "    \n",
    "    def set_monat(self, monat):\n",
    "        self.__monat = monat\n",
    "    \n",
    "    def set_jahr(self, jahr):\n",
    "        self.__jahr = jahr\n",
    "    "
   ]
  },
  {
   "cell_type": "markdown",
   "metadata": {},
   "source": [
    "#### Testen Sie Ihre Klasse"
   ]
  },
  {
   "cell_type": "code",
   "execution_count": 47,
   "metadata": {},
   "outputs": [
    {
     "name": "stdout",
     "output_type": "stream",
     "text": [
      "True\n",
      "False\n",
      "1.2.2000\n"
     ]
    }
   ],
   "source": [
    "d = Datum(1,2,2000)\n",
    "d2 = Datum(1,2,2000)\n",
    "d3 = Datum(4,2,2000)\n",
    "print(d == d2)\n",
    "print(d3 == d2)\n",
    "\n",
    "print(d)\n"
   ]
  },
  {
   "cell_type": "markdown",
   "metadata": {},
   "source": [
    "# Aufgabe2 - Klasse Feiertag\n",
    "####  Schreiben Sie eine Unterklasse Feiertag der Klasse Datum  (Die Vereinbarung der Oberklasse Datum soll nicht verändert werden!). Diese Klasse soll neben den geerbten Attributen / Methoden der Oberklasse folgende Bestandteile haben:\n",
    "\n",
    "    ein zusätzliches Attribut zur Aufnahme des Namens des Feiertags\n",
    "    zusätzliche Methoden: get-/set-Methoden für das neue Attribut\n",
    "    eine __init__-Methode, die sämtliche Attribute der Klasse Feiertag initialisiert\n",
    "    die Methode __str__(self) der Oberklasse soll überschrieben werden\n",
    "    ein Feiertag soll in folgendem Format ausgegeben werden: 3.10.2022 Tag der Deutschen Einheit\n"
   ]
  },
  {
   "cell_type": "code",
   "execution_count": 48,
   "metadata": {},
   "outputs": [],
   "source": [
    "class Feiertag(Datum):\n",
    "    def __init__(self, tag, monat, jahr, name):\n",
    "        super().__init__(tag, monat, jahr)\n",
    "        self.__name = name\n",
    "\n",
    "    def __str__(self):\n",
    "        return super().__str__() + \" \" + str(self.__name)\n",
    "\n",
    "    def get_name(self):\n",
    "        return self.__name\n",
    "\n",
    "    def set_name(self, name):\n",
    "        self.name = name\n"
   ]
  },
  {
   "cell_type": "markdown",
   "metadata": {},
   "source": [
    "#### Testen Sie die neue Klasse \"Feiertag\":"
   ]
  },
  {
   "cell_type": "code",
   "execution_count": 49,
   "metadata": {},
   "outputs": [
    {
     "name": "stdout",
     "output_type": "stream",
     "text": [
      "3.10.2022 Tag der Deutschen Einheit\n"
     ]
    }
   ],
   "source": [
    "f = Feiertag(1,1,2022, \"Neujahr\")\n",
    "f2 = Feiertag(8,3,2022, \"Frauentag\")\n",
    "f3 = Feiertag(24,12,2022, \"Heiliger Abend\")\n",
    "f4 = Feiertag(3,10,2022, \"Tag der Deutschen Einheit\")\n",
    "\n",
    "print(f4)"
   ]
  }
 ],
 "metadata": {
  "kernelspec": {
   "display_name": "Python 3.10.6 64-bit",
   "language": "python",
   "name": "python3"
  },
  "language_info": {
   "codemirror_mode": {
    "name": "ipython",
    "version": 3
   },
   "file_extension": ".py",
   "mimetype": "text/x-python",
   "name": "python",
   "nbconvert_exporter": "python",
   "pygments_lexer": "ipython3",
   "version": "3.10.6"
  },
  "vscode": {
   "interpreter": {
    "hash": "31f2aee4e71d21fbe5cf8b01ff0e069b9275f58929596ceb00d14d90e3e16cd6"
   }
  }
 },
 "nbformat": 4,
 "nbformat_minor": 4
}
