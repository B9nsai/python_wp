{
 "cells": [
  {
   "cell_type": "markdown",
   "metadata": {},
   "source": [
    "# Day 1 Exercise: Python Basics\n",
    "\n",
    "This sheet will help you learn the python basics!\n",
    "\n",
    "To test your code, simply add any number of cells! The provided function headers should give you some help and a hint to a solution, but you don't have to use them!\n",
    "\n",
    "**Remember**: \n",
    "- test your code a lot, to see which changes have which effects. \n",
    "- it is also helpful to try to solve the assignment in small steps.\n",
    "- everything you need were covered in the lecture, try to look there before using google."
   ]
  },
  {
   "cell_type": "markdown",
   "metadata": {},
   "source": [
    "## 1. Build a List Evaluator"
   ]
  },
  {
   "cell_type": "markdown",
   "metadata": {},
   "source": [
    "Fill out the function below, which calculates and prints out the maximum value, minimum value, sum of all values, average, and the variance for a list of numbers. (Try not to use the sum, max or min functions in python).\n",
    "\n",
    "(Quick reminder variance)\n",
    "![](variance-formula.png)"
   ]
  },
  {
   "cell_type": "code",
   "execution_count": 8,
   "metadata": {},
   "outputs": [],
   "source": [
    "def evaluate_list(values):\n",
    "    # YOUR CODE starts here!\n",
    "    min_value = values[0]\n",
    "    max_value = values[0]\n",
    "    sum = 0\n",
    "    for i in values:\n",
    "        sum += i\n",
    "        if i < min_value:\n",
    "            min_value = i\n",
    "        if i > max_value:\n",
    "            max_value = i\n",
    "        \n",
    "    avg_value = sum / len(values)\n",
    "\n",
    "    var_value = 0 # idk\n",
    "\n",
    "    print(\"Minimum: \" + min_value)\n",
    "    print(\"Maximum: \" + max_value)\n",
    "    print(\"Summe: \" + sum)\n",
    "    print(\"Durchschnitt: \" + avg_value)\n",
    "\n",
    "    # YOUR CODE ENDS here!\n",
    "    return max_value, min_value, avg_value, var_value"
   ]
  },
  {
   "cell_type": "markdown",
   "metadata": {},
   "source": [
    "## 2.  Build a simple calculator\n",
    "\n",
    "Write a function, which takes in two numbers, x and y, and does a mathmatical operation of those numbers. The third input is the operation, which should be a string. Possible operations are: \n",
    "- **add**\n",
    "- **subtract**, \n",
    "- **multiply**, \n",
    "- **divide**, \n",
    "- **whole-division**\n",
    "- **modulo**\n",
    "- **power**\n",
    "\n",
    "Your function should make sure the values x and y are of type _int_ or _float_. If the values x and y are not numbers, or the operation is not one of the listed ones, the function should print out a message with the error and return `None`."
   ]
  },
  {
   "cell_type": "code",
   "execution_count": 9,
   "metadata": {},
   "outputs": [],
   "source": [
    "def list_evaluator(num_1, num_2, operation):\n",
    "    # YOUR CODE starts here!\n",
    "    \n",
    "    # YOUR CODE ENDS here!\n",
    "    return result   "
   ]
  },
  {
   "cell_type": "markdown",
   "metadata": {},
   "source": [
    "## 3. Build an Invoice Generator\n",
    "\n",
    "Write a function, which prints out an invoice for an order for a supermarket. At the moment, the supermarket only has only 4 different products and prices for each: \n",
    "\n",
    "- Watermelons for 3.8\n",
    "- Apples  for 0.9 \n",
    "- Bananas for 1.1 \n",
    "- Tomatoes for 2.7\n",
    "\n",
    "Since the supermarket is pretty new, they have a special going on: If one buys more tomatoes than watermelons, the bananas are free! Else, if the price for all apples is higher than the price for all tomatoes, the watermelons are free! (weird special , I know).\n",
    "The input for the generator is: the name of the customer and number of each item bought. The generator should print out an invoice."
   ]
  },
  {
   "cell_type": "code",
   "execution_count": 16,
   "metadata": {},
   "outputs": [
    {
     "name": "stdout",
     "output_type": "stream",
     "text": [
      "Leon's Invoice:\n",
      "\n",
      "    Watermelon: 1 * 3.8 = 3.8\n",
      "    Apple: 2 * 0.9 = 1.8\n",
      "    Banana: 3 * 0 = 0\n",
      "    Tomato: 4 * 2.7 = 10.8\n",
      "\n",
      "Total: 16.4\n"
     ]
    }
   ],
   "source": [
    "def invoice_generator(num_watermelons, num_apples, num_bananas, num_tomatoes):\n",
    "    # YOUR CODE starts here!\n",
    "    price_watermelons = 3.8\n",
    "    price_apples = 0.9\n",
    "    price_bananas = 1.1\n",
    "    price_tomatoes = 2.7\n",
    "\n",
    "    if num_tomatoes > num_watermelons:\n",
    "        price_bananas = 0\n",
    "    elif price_apples > price_tomatoes:\n",
    "        price_watermelons = 0\n",
    "\n",
    "    total = num_watermelons * price_watermelons\n",
    "    total += num_apples * price_apples\n",
    "    total += num_bananas * price_bananas\n",
    "    total += num_tomatoes * price_tomatoes\n",
    "\n",
    "    price = str(input()) + \"'s Invoice:\\n\\n\"\n",
    "    price += price_to_string(num_watermelons, price_watermelons, \"Watermelon\")\n",
    "    price += price_to_string(num_apples, price_apples, \"Apple\")\n",
    "    price += price_to_string(num_bananas, price_bananas, \"Banana\")\n",
    "    price += price_to_string(num_tomatoes, price_tomatoes, \"Tomato\")\n",
    "\n",
    "    price += \"\\nTotal: \" + str(total)\n",
    "    \n",
    "    # YOUR CODE ENDS here!\n",
    "    return price\n",
    "\n",
    "def price_to_string(num_item, price_item, name_item):\n",
    "    if num_item <= 0:\n",
    "        return \"\"    \n",
    "    return \"    \" + str(name_item) + \": \" + str(num_item) + \" * \" + str(price_item) + \" = \" + str(num_item * price_item) + \"\\n\"\n",
    "    \n",
    "print(invoice_generator(1, 2, 3, 4))\n"
   ]
  },
  {
   "cell_type": "markdown",
   "metadata": {},
   "source": [
    "## 4. Fibonnaci\n",
    "\n",
    "Write a function which calculates and prints the fibonacci series up to n. If that is too easy: Rewrite the function recursively (the function should call itself)."
   ]
  },
  {
   "cell_type": "code",
   "execution_count": 11,
   "metadata": {},
   "outputs": [],
   "source": [
    "def fibonacci(n):\n",
    "    fib_series = [] # create a empty list to fill with values\n",
    "    # YOUR CODE starts here!\n",
    "    \n",
    "    # YOUR CODE ENDS here!\n",
    "    return fib_series"
   ]
  },
  {
   "cell_type": "markdown",
   "metadata": {},
   "source": [
    "## 5. Smart Indexing"
   ]
  },
  {
   "cell_type": "markdown",
   "metadata": {},
   "source": [
    "Create a list with the values from 0 to 99, and use slicing to create the following lists:\n",
    "1. a list with all even numbers \n",
    "2. a list with all numbers dividable by 7\n",
    "3. a list of numbers dividable by 9, in reverse order\n",
    "4. a list all numbers, which start with an odd number\n",
    "\n",
    "Print out the lists in the given function."
   ]
  },
  {
   "cell_type": "code",
   "execution_count": 37,
   "metadata": {},
   "outputs": [
    {
     "name": "stdout",
     "output_type": "stream",
     "text": [
      "1. a list with all even numbers\n",
      "[0, 2, 4, 6, 8, 10, 12, 14, 16, 18, 20, 22, 24, 26, 28, 30, 32, 34, 36, 38, 40, 42, 44, 46, 48, 50, 52, 54, 56, 58, 60, 62, 64, 66, 68, 70, 72, 74, 76, 78, 80, 82, 84, 86, 88, 90, 92, 94, 96, 98]\n",
      "\n",
      "2. a list with all numbers dividable by 7\n",
      "[7, 14, 21, 28, 35, 42, 49, 56, 63, 70, 77, 84, 91, 98]\n",
      "\n",
      "3. a list of numbers dividable by 9, in reverse order\n",
      "[99, 90, 81, 72, 63, 54, 45, 36, 27, 18, 9]\n",
      "\n",
      "4. a list all numbers, which start with an odd number\n",
      "[1, 3, 5, 7, 9, 10, 11, 12, 13, 14, 15, 16, 17, 18, 19, 30, 31, 32, 33, 34, 35, 36, 37, 38, 39, 50, 51, 52, 53, 54, 55, 56, 57, 58, 59, 70, 71, 72, 73, 74, 75, 76, 77, 78, 79, 90, 91, 92, 93, 94, 95, 96, 97, 98, 99]\n"
     ]
    }
   ],
   "source": [
    "def ex5():\n",
    "    # YOUR CODE starts here!\n",
    "    list = []\n",
    "    for i in range(0, 100):\n",
    "        list.append(i)\n",
    "\n",
    "    print(\"1. a list with all even numbers\") \n",
    "    print(list[::2])\n",
    "    \n",
    "    print(\"\\n2. a list with all numbers dividable by 7\")\n",
    "    print(list[7::7])\n",
    "\n",
    "    print(\"\\n3. a list of numbers dividable by 9, in reverse order\")\n",
    "    print(list[len(list):0:-9])\n",
    "    \n",
    "    print(\"\\n4. a list all numbers, which start with an odd number\")\n",
    "    odd_list = list[1:10:2]\n",
    "    for i in range(10, 100, 20):\n",
    "        tmp = list[i:i+10]\n",
    "        for j in range(0, len(tmp)):\n",
    "            odd_list.append(tmp[j])\n",
    "    print(odd_list)\n",
    "    \n",
    "    # YOUR CODE ENDS here!\n",
    "    return\n",
    "\n",
    "ex5()"
   ]
  },
  {
   "cell_type": "markdown",
   "metadata": {},
   "source": [
    "## 6. Build an Encrypter and Decrypter"
   ]
  },
  {
   "cell_type": "markdown",
   "metadata": {},
   "source": [
    "Create an encrypt function that takes a string and returns the sentence with all the letters transposed by a key in the alphabet. The key is an integer specfied in the encrypt function. Also write a decrypt function, which takes an encrypted sentence and a key as input and returns the initial string (if the key is correct!). Symbols should not be transposed!\n",
    "\n",
    "Example: \n",
    "- message: \"abc\", \n",
    "- key:3 \n",
    "\n",
    "`\"abc\"` -> (encrypt)-> `\"def\"` (decrypt)-> `\"abc\"`\n",
    "\n",
    "Example: letter_coded = ord(letter) + key \n",
    "\n",
    "The ord() function returns the number representing the unicode code of a specified character.\n",
    "\n",
    "**Hint**: be careful at edge cases! What should happen with letters at the end of the alphabet?   "
   ]
  },
  {
   "cell_type": "code",
   "execution_count": 17,
   "metadata": {},
   "outputs": [],
   "source": [
    "def encode(message, key):\n",
    "    # YOUR CODE starts here!\n",
    "    \n",
    "    # YOUR CODE ENDS here!\n",
    "    return encoded_message"
   ]
  },
  {
   "cell_type": "code",
   "execution_count": 18,
   "metadata": {},
   "outputs": [],
   "source": [
    "def decode(message, key):\n",
    "    # YOUR CODE starts here!\n",
    "    \n",
    "    # YOUR CODE ENDS here!\n",
    "    return decoded_message"
   ]
  },
  {
   "cell_type": "markdown",
   "metadata": {},
   "source": [
    "## 7. (Advanced) Build a X-mas Tree generator"
   ]
  },
  {
   "cell_type": "markdown",
   "metadata": {},
   "source": [
    "Write a function which prints out a christmas tree! The tree consisits out of stars. The input to the function is only the number of levels and the height of each level. With each level, the tree gets two stars wider. \n",
    "\n",
    "Example with `num_levels=5` and `height_level=6`:\n",
    "\n",
    "![](example_xmas_tree.png)\n",
    "\n",
    "**Hint**: You definetly need to use loops and print spaces for places not filled with stars. Also try to calculate first the width of the tree."
   ]
  },
  {
   "cell_type": "code",
   "execution_count": 19,
   "metadata": {},
   "outputs": [],
   "source": [
    "def build_xmas_tree(height_level, num_levels):\n",
    "    # YOUR CODE starts here!\n",
    "    \n",
    "    # YOUR CODE ENDS here!\n",
    "    return"
   ]
  }
 ],
 "metadata": {
  "kernelspec": {
   "display_name": "Python 3.8.10 64-bit",
   "language": "python",
   "name": "python3"
  },
  "language_info": {
   "codemirror_mode": {
    "name": "ipython",
    "version": 3
   },
   "file_extension": ".py",
   "mimetype": "text/x-python",
   "name": "python",
   "nbconvert_exporter": "python",
   "pygments_lexer": "ipython3",
   "version": "3.8.10"
  },
  "vscode": {
   "interpreter": {
    "hash": "916dbcbb3f70747c44a77c7bcd40155683ae19c65e1c03b4aa3499c5328201f1"
   }
  }
 },
 "nbformat": 4,
 "nbformat_minor": 2
}
