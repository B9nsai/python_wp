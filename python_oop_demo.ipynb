{
 "cells": [
  {
   "cell_type": "markdown",
   "metadata": {},
   "source": [
    "Superklasse Produkt"
   ]
  },
  {
   "cell_type": "code",
   "execution_count": 48,
   "metadata": {},
   "outputs": [],
   "source": [
    "class Produkt:\n",
    "    def __init__(self, bezeichnung, preis):\n",
    "        self.__bezeichnung = bezeichnung\n",
    "        self.__preis = preis\n",
    "\n",
    "    def __str__(self):\n",
    "        return str(self.__bezeichnung) + \": \" + str(self.__preis) + \"€\"\n",
    "\n",
    "    def __eq__(self, other):\n",
    "        return self.__bezeichnung == other.__bezeichnung \\\n",
    "            and self.__preis == other.__preis\n",
    "\n",
    "    def __ne__(self, other):\n",
    "        return self.__bezeichnung != other.__bezeichnung \\\n",
    "            or self.__preis != other.__preis\n",
    "\n",
    "    def get_bezeichnung(self):\n",
    "        return self.__bezeichnung\n",
    "\n",
    "    def get_preis(self):\n",
    "        return self.preis\n",
    "\n",
    "    def set_bezeichnung(self, bezeichnung):\n",
    "        self.__bezeichnung = bezeichnung\n",
    "\n",
    "    def set_preis(self, preis):\n",
    "        self.__preis = preis"
   ]
  },
  {
   "cell_type": "code",
   "execution_count": 49,
   "metadata": {},
   "outputs": [
    {
     "name": "stdout",
     "output_type": "stream",
     "text": [
      "True\n",
      "False\n",
      "\n",
      "Döner: 3.5€\n",
      "Döhner: 3.5€\n"
     ]
    }
   ],
   "source": [
    "produkt1 = Produkt(\"Döner\", 3.50)\n",
    "produkt2 = Produkt(\"Döner\", 3.50)\n",
    "produkt3 = Produkt(\"Döhner\", 3.50)\n",
    "\n",
    "print(produkt1 == produkt2)\n",
    "print(produkt2 == produkt3)\n",
    "\n",
    "print()\n",
    "print(produkt1)\n",
    "print(produkt3)"
   ]
  },
  {
   "cell_type": "markdown",
   "metadata": {},
   "source": [
    "Subklasse Kaffee"
   ]
  },
  {
   "cell_type": "code",
   "execution_count": 50,
   "metadata": {},
   "outputs": [],
   "source": [
    "class Kaffee(Produkt):\n",
    "    def __init__(self, bezeichnung, preis, geschmacksnote, mahlgrad):\n",
    "        super().__init__(bezeichnung, preis)\n",
    "        self.__geschmacksnote = geschmacksnote\n",
    "        self.__mahlgrad = mahlgrad\n",
    "\n",
    "    def __str__(self):\n",
    "        return super().__str__() + \\\n",
    "            \"\\nGeschmacksnote: \" + self.__geschmacksnote + \\\n",
    "                \"\\nMahlgrad: \" + self.__mahlgrad + \"\\n\"\n",
    "\n",
    "    def __eq__(self, other):\n",
    "        return super().__eq__(other) and self.__geschmacksnote == other.__geschmacksnote \\\n",
    "            and self.__mahlgrad == other.__mahlgrad\n",
    "\n",
    "    def __ne__(self, other):\n",
    "        return super().__ne__(other) or self.__geschmacksnote != other.__geschmacksnote \\\n",
    "            or self.__mahlgrad != other.__mahlgrad\n",
    "\n",
    "    def get_geschmacksnote(self):\n",
    "        return self.__geschmacksnote\n",
    "\n",
    "    def get_mahlgrad(self):\n",
    "        return self.__mahlgrad\n",
    "\n",
    "    def set_geschmacksnote(self, geschmacksnote):\n",
    "        self.__geschmacksnote = geschmacksnote\n",
    "\n",
    "    def set_mahlgrad(self, mahlgrad):\n",
    "        self.__mahlgrad = mahlgrad"
   ]
  },
  {
   "cell_type": "code",
   "execution_count": 51,
   "metadata": {},
   "outputs": [
    {
     "name": "stdout",
     "output_type": "stream",
     "text": [
      "True\n",
      "False\n",
      "\n",
      "Neunbar: 9.95€\n",
      "Geschmacksnote: vollmundig\n",
      "Mahlgrad: Ganze Bohnen\n",
      "\n",
      "Araku: 9.95€\n",
      "Geschmacksnote: vollmundig\n",
      "Mahlgrad: Ganze Bohnen\n",
      "\n"
     ]
    }
   ],
   "source": [
    "neunbar = Kaffee(\"Neunbar\", 9.95, \"vollmundig\", \"Ganze Bohnen\")\n",
    "neunbar2 = Kaffee(\"Neunbar\", 9.95, \"vollmundig\", \"Ganze Bohnen\")\n",
    "araku = Kaffee(\"Araku\", 9.95, \"vollmundig\", \"Ganze Bohnen\")\n",
    "\n",
    "print(neunbar == neunbar2)\n",
    "print(neunbar == araku)\n",
    "print()\n",
    "print(neunbar)\n",
    "print(araku)"
   ]
  },
  {
   "cell_type": "markdown",
   "metadata": {},
   "source": [
    "Subklasse Tisch"
   ]
  },
  {
   "cell_type": "code",
   "execution_count": 52,
   "metadata": {},
   "outputs": [],
   "source": [
    "class Tisch(Produkt):\n",
    "    def __init__(self, bezeichnung, preis, material, anzahl_beine):\n",
    "        super().__init__(bezeichnung, preis)\n",
    "        self.__material = material \n",
    "        self.__anzahl_beine = anzahl_beine\n",
    "\n",
    "    def __str__(self):\n",
    "        return super().__str__() + \"\\nMaterial: \" + self.__material \\\n",
    "        + \"\\nAnzahl Beine: \" + str(self.__anzahl_beine) + \"\\n\"\n",
    "\n",
    "    def __eq__(self, other):\n",
    "        return super().__eq__(other) and self.__material == other.__material \\\n",
    "            and self.__anzahl_beine == other.__anzahl_beine\n",
    "\n",
    "    def __ne__(self, other):\n",
    "        return super().__ne__(other) or self.__material != other.__material \\\n",
    "            or self.__anzahl_beine != other.__anzahl_beine\n",
    "\n",
    "    def get_material(self):\n",
    "        return self.__material\n",
    "\n",
    "    def get_anzahl_beine(self):\n",
    "        return self.__anzahl_beine\n",
    "\n",
    "    def set_material(self, material):\n",
    "        self.__material = material\n",
    "\n",
    "    def set_anzahl_beine(self, anzahl_beine):\n",
    "        self.__anzahl_beine = anzahl_beine"
   ]
  },
  {
   "cell_type": "code",
   "execution_count": 53,
   "metadata": {},
   "outputs": [
    {
     "name": "stdout",
     "output_type": "stream",
     "text": [
      "True\n",
      "False\n",
      "\n",
      "Marmortisch: 10000€\n",
      "Material: Marmor\n",
      "Anzahl Beine: 4\n",
      "\n",
      "Holztisch: 99.99€\n",
      "Material: Holz\n",
      "Anzahl Beine: 4\n",
      "\n"
     ]
    }
   ],
   "source": [
    "grosser_tisch = Tisch(\"Marmortisch\", 10000, \"Marmor\", 4)\n",
    "kleiner_tisch = Tisch(\"Holztisch\", 99.99, \"Holz\", 4)\n",
    "\n",
    "print(grosser_tisch == grosser_tisch)\n",
    "print(grosser_tisch == kleiner_tisch)\n",
    "print()\n",
    "\n",
    "print(grosser_tisch)\n",
    "print(kleiner_tisch)\n"
   ]
  }
 ],
 "metadata": {
  "kernelspec": {
   "display_name": "Python 3.10.6 64-bit",
   "language": "python",
   "name": "python3"
  },
  "language_info": {
   "codemirror_mode": {
    "name": "ipython",
    "version": 3
   },
   "file_extension": ".py",
   "mimetype": "text/x-python",
   "name": "python",
   "nbconvert_exporter": "python",
   "pygments_lexer": "ipython3",
   "version": "3.10.6"
  },
  "orig_nbformat": 4,
  "vscode": {
   "interpreter": {
    "hash": "916dbcbb3f70747c44a77c7bcd40155683ae19c65e1c03b4aa3499c5328201f1"
   }
  }
 },
 "nbformat": 4,
 "nbformat_minor": 2
}
